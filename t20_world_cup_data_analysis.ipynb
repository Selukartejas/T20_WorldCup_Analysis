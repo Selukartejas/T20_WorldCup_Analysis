{
 "cells": [
  {
   "cell_type": "code",
   "execution_count": 18,
   "metadata": {},
   "outputs": [],
   "source": [
    "import pandas as pd\n",
    "import numpy as np\n",
    "import matplotlib.pyplot as plt\n",
    "import seaborn as sns\n",
    "from sklearn.preprocessing import LabelEncoder\n",
    "from sklearn.preprocessing import StandardScaler\n",
    "from sklearn.model_selection import train_test_split\n",
    "from tqdm.notebook import tqdm\n",
    "from tqdm import tqdm"
   ]
  },
  {
   "cell_type": "code",
   "execution_count": 19,
   "metadata": {},
   "outputs": [],
   "source": [
    "#Load the data\n",
    "df = pd.read_csv(\"T-20 World cup 2022.csv\")"
   ]
  },
  {
   "cell_type": "code",
   "execution_count": 20,
   "metadata": {},
   "outputs": [
    {
     "data": {
      "text/html": [
       "<div>\n",
       "<style scoped>\n",
       "    .dataframe tbody tr th:only-of-type {\n",
       "        vertical-align: middle;\n",
       "    }\n",
       "\n",
       "    .dataframe tbody tr th {\n",
       "        vertical-align: top;\n",
       "    }\n",
       "\n",
       "    .dataframe thead th {\n",
       "        text-align: right;\n",
       "    }\n",
       "</style>\n",
       "<table border=\"1\" class=\"dataframe\">\n",
       "  <thead>\n",
       "    <tr style=\"text-align: right;\">\n",
       "      <th></th>\n",
       "      <th>comment_id</th>\n",
       "      <th>match_id</th>\n",
       "      <th>match_name</th>\n",
       "      <th>home_team</th>\n",
       "      <th>away_team</th>\n",
       "      <th>current_innings</th>\n",
       "      <th>innings_id</th>\n",
       "      <th>over</th>\n",
       "      <th>ball</th>\n",
       "      <th>runs</th>\n",
       "      <th>...</th>\n",
       "      <th>wicket_id</th>\n",
       "      <th>wkt_batsman_name</th>\n",
       "      <th>wkt_bowler_name</th>\n",
       "      <th>wkt_batsman_runs</th>\n",
       "      <th>wkt_batsman_balls</th>\n",
       "      <th>wkt_text</th>\n",
       "      <th>isRetiredHurt</th>\n",
       "      <th>text</th>\n",
       "      <th>preText</th>\n",
       "      <th>postText</th>\n",
       "    </tr>\n",
       "  </thead>\n",
       "  <tbody>\n",
       "    <tr>\n",
       "      <th>0</th>\n",
       "      <td>130</td>\n",
       "      <td>1298179</td>\n",
       "      <td>ENG v PAK</td>\n",
       "      <td>PAK</td>\n",
       "      <td>ENG</td>\n",
       "      <td>PAK</td>\n",
       "      <td>1</td>\n",
       "      <td>1</td>\n",
       "      <td>1</td>\n",
       "      <td>0</td>\n",
       "      <td>...</td>\n",
       "      <td>NaN</td>\n",
       "      <td>NaN</td>\n",
       "      <td>NaN</td>\n",
       "      <td>NaN</td>\n",
       "      <td>NaN</td>\n",
       "      <td>NaN</td>\n",
       "      <td>False</td>\n",
       "      <td>short again, and he gets some extra bounce on ...</td>\n",
       "      <td>NaN</td>\n",
       "      <td>NaN</td>\n",
       "    </tr>\n",
       "    <tr>\n",
       "      <th>1</th>\n",
       "      <td>120</td>\n",
       "      <td>1298179</td>\n",
       "      <td>ENG v PAK</td>\n",
       "      <td>PAK</td>\n",
       "      <td>ENG</td>\n",
       "      <td>PAK</td>\n",
       "      <td>1</td>\n",
       "      <td>1</td>\n",
       "      <td>1</td>\n",
       "      <td>1</td>\n",
       "      <td>...</td>\n",
       "      <td>NaN</td>\n",
       "      <td>NaN</td>\n",
       "      <td>NaN</td>\n",
       "      <td>NaN</td>\n",
       "      <td>NaN</td>\n",
       "      <td>NaN</td>\n",
       "      <td>False</td>\n",
       "      <td>and he'll have to bowl another free-hit after ...</td>\n",
       "      <td>&lt;p&gt;Free-hit&lt;/p&gt;</td>\n",
       "      <td>NaN</td>\n",
       "    </tr>\n",
       "    <tr>\n",
       "      <th>2</th>\n",
       "      <td>110</td>\n",
       "      <td>1298179</td>\n",
       "      <td>ENG v PAK</td>\n",
       "      <td>PAK</td>\n",
       "      <td>ENG</td>\n",
       "      <td>PAK</td>\n",
       "      <td>1</td>\n",
       "      <td>1</td>\n",
       "      <td>1</td>\n",
       "      <td>1</td>\n",
       "      <td>...</td>\n",
       "      <td>NaN</td>\n",
       "      <td>NaN</td>\n",
       "      <td>NaN</td>\n",
       "      <td>NaN</td>\n",
       "      <td>NaN</td>\n",
       "      <td>NaN</td>\n",
       "      <td>False</td>\n",
       "      <td>full, and a hint of shape away from off stump....</td>\n",
       "      <td>&lt;p&gt;&lt;b&gt;6.58pm&lt;/b&gt; Thanks, Andrew M. The MCG is ...</td>\n",
       "      <td>NaN</td>\n",
       "    </tr>\n",
       "    <tr>\n",
       "      <th>3</th>\n",
       "      <td>140</td>\n",
       "      <td>1298179</td>\n",
       "      <td>ENG v PAK</td>\n",
       "      <td>PAK</td>\n",
       "      <td>ENG</td>\n",
       "      <td>PAK</td>\n",
       "      <td>1</td>\n",
       "      <td>1</td>\n",
       "      <td>2</td>\n",
       "      <td>2</td>\n",
       "      <td>...</td>\n",
       "      <td>NaN</td>\n",
       "      <td>NaN</td>\n",
       "      <td>NaN</td>\n",
       "      <td>NaN</td>\n",
       "      <td>NaN</td>\n",
       "      <td>NaN</td>\n",
       "      <td>False</td>\n",
       "      <td>shortish, angling down leg, gloves a pull down...</td>\n",
       "      <td>NaN</td>\n",
       "      <td>NaN</td>\n",
       "    </tr>\n",
       "    <tr>\n",
       "      <th>4</th>\n",
       "      <td>150</td>\n",
       "      <td>1298179</td>\n",
       "      <td>ENG v PAK</td>\n",
       "      <td>PAK</td>\n",
       "      <td>ENG</td>\n",
       "      <td>PAK</td>\n",
       "      <td>1</td>\n",
       "      <td>1</td>\n",
       "      <td>3</td>\n",
       "      <td>0</td>\n",
       "      <td>...</td>\n",
       "      <td>NaN</td>\n",
       "      <td>NaN</td>\n",
       "      <td>NaN</td>\n",
       "      <td>NaN</td>\n",
       "      <td>NaN</td>\n",
       "      <td>NaN</td>\n",
       "      <td>False</td>\n",
       "      <td>length ball close to off stump, straightens a ...</td>\n",
       "      <td>NaN</td>\n",
       "      <td>NaN</td>\n",
       "    </tr>\n",
       "  </tbody>\n",
       "</table>\n",
       "<p>5 rows × 44 columns</p>\n",
       "</div>"
      ],
      "text/plain": [
       "   comment_id  match_id match_name home_team away_team current_innings  \\\n",
       "0         130   1298179  ENG v PAK       PAK       ENG             PAK   \n",
       "1         120   1298179  ENG v PAK       PAK       ENG             PAK   \n",
       "2         110   1298179  ENG v PAK       PAK       ENG             PAK   \n",
       "3         140   1298179  ENG v PAK       PAK       ENG             PAK   \n",
       "4         150   1298179  ENG v PAK       PAK       ENG             PAK   \n",
       "\n",
       "   innings_id  over  ball  runs  ... wicket_id  wkt_batsman_name  \\\n",
       "0           1     1     1     0  ...       NaN               NaN   \n",
       "1           1     1     1     1  ...       NaN               NaN   \n",
       "2           1     1     1     1  ...       NaN               NaN   \n",
       "3           1     1     2     2  ...       NaN               NaN   \n",
       "4           1     1     3     0  ...       NaN               NaN   \n",
       "\n",
       "   wkt_bowler_name  wkt_batsman_runs  wkt_batsman_balls wkt_text  \\\n",
       "0              NaN               NaN                NaN      NaN   \n",
       "1              NaN               NaN                NaN      NaN   \n",
       "2              NaN               NaN                NaN      NaN   \n",
       "3              NaN               NaN                NaN      NaN   \n",
       "4              NaN               NaN                NaN      NaN   \n",
       "\n",
       "   isRetiredHurt                                               text  \\\n",
       "0          False  short again, and he gets some extra bounce on ...   \n",
       "1          False  and he'll have to bowl another free-hit after ...   \n",
       "2          False  full, and a hint of shape away from off stump....   \n",
       "3          False  shortish, angling down leg, gloves a pull down...   \n",
       "4          False  length ball close to off stump, straightens a ...   \n",
       "\n",
       "                                             preText postText  \n",
       "0                                                NaN      NaN  \n",
       "1                                    <p>Free-hit</p>      NaN  \n",
       "2  <p><b>6.58pm</b> Thanks, Andrew M. The MCG is ...      NaN  \n",
       "3                                                NaN      NaN  \n",
       "4                                                NaN      NaN  \n",
       "\n",
       "[5 rows x 44 columns]"
      ]
     },
     "execution_count": 20,
     "metadata": {},
     "output_type": "execute_result"
    }
   ],
   "source": [
    "## Display the first few rows of the dataframe\n",
    "df.head()"
   ]
  },
  {
   "cell_type": "code",
   "execution_count": 21,
   "metadata": {},
   "outputs": [
    {
     "data": {
      "text/plain": [
       "(9814, 44)"
      ]
     },
     "execution_count": 21,
     "metadata": {},
     "output_type": "execute_result"
    }
   ],
   "source": [
    "df.shape"
   ]
  },
  {
   "cell_type": "code",
   "execution_count": 22,
   "metadata": {},
   "outputs": [
    {
     "data": {
      "text/plain": [
       "comment_id            316\n",
       "match_id               42\n",
       "match_name             42\n",
       "home_team              16\n",
       "away_team              15\n",
       "current_innings        16\n",
       "innings_id              2\n",
       "over                   20\n",
       "ball                    6\n",
       "runs                    8\n",
       "shortText            5896\n",
       "isBoundary              2\n",
       "isWide                  2\n",
       "isNoball                2\n",
       "batsman1_id           197\n",
       "batsman1_name         197\n",
       "batsman1_runs         104\n",
       "batsman1_balls         64\n",
       "bowler1_id            132\n",
       "bowler1_name          132\n",
       "bowler1_overs          25\n",
       "bowler1_maidens         3\n",
       "bowler1_runs           59\n",
       "bowler1_wkts            6\n",
       "batsman2_id           190\n",
       "batsman2_name         190\n",
       "batsman2_runs          93\n",
       "batsman2_balls         61\n",
       "bowler2_id            132\n",
       "bowler2_name          132\n",
       "bowler2_overs           8\n",
       "bowler2_maidens         3\n",
       "bowler2_runs           51\n",
       "bowler2_wkts            5\n",
       "wicket_id             172\n",
       "wkt_batsman_name      172\n",
       "wkt_bowler_name       113\n",
       "wkt_batsman_runs       68\n",
       "wkt_batsman_balls      52\n",
       "wkt_text              551\n",
       "isRetiredHurt           2\n",
       "text                 9705\n",
       "preText              1830\n",
       "postText             1084\n",
       "dtype: int64"
      ]
     },
     "execution_count": 22,
     "metadata": {},
     "output_type": "execute_result"
    }
   ],
   "source": [
    "# Get number of unique values in each column - helps identify categorical and continuous variables.\n",
    "df.nunique()"
   ]
  },
  {
   "cell_type": "code",
   "execution_count": 23,
   "metadata": {},
   "outputs": [
    {
     "data": {
      "text/plain": [
       "wkt_text             9263\n",
       "wkt_batsman_balls    9263\n",
       "wkt_batsman_runs     9263\n",
       "wkt_bowler_name      9263\n",
       "wkt_batsman_name     9263\n",
       "wicket_id            9263\n",
       "postText             8726\n",
       "preText              7953\n",
       "bowler2_maidens       526\n",
       "bowler2_id            526\n",
       "bowler2_name          526\n",
       "bowler2_overs         526\n",
       "bowler2_wkts          526\n",
       "bowler2_runs          526\n",
       "text                   28\n",
       "dtype: int64"
      ]
     },
     "execution_count": 23,
     "metadata": {},
     "output_type": "execute_result"
    }
   ],
   "source": [
    "# Check for missing values\n",
    "missing_values = df.isnull().sum().sort_values(ascending=False)\n",
    "missing_values = missing_values[missing_values > 0]\n",
    "missing_values"
   ]
  },
  {
   "cell_type": "code",
   "execution_count": null,
   "metadata": {},
   "outputs": [],
   "source": [
    "\"\"\"The dataset contains missing values in several columns. \n",
    "The columns related to wickets (wkt_text, wkt_batsman_balls, wkt_batsman_runs, \n",
    "wkt_bowler_name, wkt_batsman_name, wicket_id) have the most missing values, \n",
    "which is expected as not every ball results in a wicket. \n",
    "Other columns with missing values include postText, preText, and various columns related \n",
    "to the second bowler (bowler2_*). The text column also has a few missing entries.\"\"\""
   ]
  },
  {
   "cell_type": "code",
   "execution_count": 24,
   "metadata": {},
   "outputs": [
    {
     "data": {
      "text/plain": [
       "1"
      ]
     },
     "execution_count": 24,
     "metadata": {},
     "output_type": "execute_result"
    }
   ],
   "source": [
    "# Check for duplicate rows\n",
    "duplicate_rows = df.duplicated().sum()\n",
    "duplicate_rows"
   ]
  },
  {
   "cell_type": "code",
   "execution_count": 26,
   "metadata": {},
   "outputs": [],
   "source": [
    "# Remove duplicate rows\n",
    "df = df.drop_duplicates()"
   ]
  },
  {
   "cell_type": "code",
   "execution_count": 27,
   "metadata": {},
   "outputs": [
    {
     "data": {
      "text/plain": [
       "(9813, 44)"
      ]
     },
     "execution_count": 27,
     "metadata": {},
     "output_type": "execute_result"
    }
   ],
   "source": [
    "df.shape"
   ]
  },
  {
   "cell_type": "code",
   "execution_count": null,
   "metadata": {},
   "outputs": [],
   "source": [
    "#The duplicate row has been removed, and the dataset now contains 9813 rows and 44 columns."
   ]
  },
  {
   "cell_type": "code",
   "execution_count": 28,
   "metadata": {},
   "outputs": [
    {
     "data": {
      "text/plain": [
       "count    1374.000000\n",
       "mean        4.416303\n",
       "std         0.950285\n",
       "min         3.000000\n",
       "25%         4.000000\n",
       "50%         4.000000\n",
       "75%         5.000000\n",
       "max         7.000000\n",
       "Name: runs, dtype: float64"
      ]
     },
     "execution_count": 28,
     "metadata": {},
     "output_type": "execute_result"
    }
   ],
   "source": [
    "# Identify outliers in the 'runs' column\n",
    "# I will use the IQR method to detect outliers\n",
    "Q1 = df['runs'].quantile(0.25)\n",
    "Q3 = df['runs'].quantile(0.75)\n",
    "IQR = Q3 - Q1\n",
    "\n",
    "# Define bounds for the outliers\n",
    "lower_bound = Q1 - 1.5 * IQR\n",
    "upper_bound = Q3 + 1.5 * IQR\n",
    "\n",
    "# Findinfg the outliers\n",
    "outliers = df[(df['runs'] < lower_bound) | (df['runs'] > upper_bound)]['runs']\n",
    "outliers.describe()"
   ]
  },
  {
   "cell_type": "code",
   "execution_count": null,
   "metadata": {},
   "outputs": [],
   "source": [
    "\"\"\"\"There are 1374 outliers in the 'runs' column, with a mean of approximately 4.42 runs. \n",
    "These outliers are likely due to scoring events such as boundaries (fours (4 runs) and sixes (6 runs)), \n",
    "which are less frequent but still common in T20 cricket. \n",
    "Given the nature of the sport, these are not errors but an integral part of the game, so we will not remove them.\n",
    "\"\"\""
   ]
  },
  {
   "cell_type": "code",
   "execution_count": 29,
   "metadata": {},
   "outputs": [
    {
     "data": {
      "text/plain": [
       "away_team             15\n",
       "home_team             16\n",
       "current_innings       16\n",
       "match_name            42\n",
       "wkt_bowler_name      113\n",
       "bowler1_name         132\n",
       "bowler2_name         132\n",
       "wkt_batsman_name     172\n",
       "batsman2_name        190\n",
       "batsman1_name        197\n",
       "wkt_text             551\n",
       "postText            1084\n",
       "preText             1830\n",
       "shortText           5896\n",
       "text                9705\n",
       "dtype: int64"
      ]
     },
     "execution_count": 29,
     "metadata": {},
     "output_type": "execute_result"
    }
   ],
   "source": [
    "# Check the unique values of categorical variables\n",
    "categorical_columns = df.select_dtypes(include=['object']).columns\n",
    "unique_values = df[categorical_columns].nunique().sort_values()\n",
    "unique_values"
   ]
  },
  {
   "cell_type": "markdown",
   "metadata": {},
   "source": [
    " Creating new features that could be useful for analysis, such as the strike rate of batsmen, economy rate of bowlers, or total boundaries hit in an innings."
   ]
  },
  {
   "cell_type": "code",
   "execution_count": 31,
   "metadata": {},
   "outputs": [],
   "source": [
    "# Calculate the strike rate for batsmen\n",
    "# Strike Rate = (Total Runs Scored / Total Balls Faced) * 100\n",
    "\n",
    "df['batsman1_strike_rate'] = (df['batsman1_runs'] / df['batsman1_balls']) * 100\n",
    "\n",
    "df['batsman2_strike_rate'] = (df['batsman2_runs'] / df['batsman2_balls']) * 100"
   ]
  },
  {
   "cell_type": "code",
   "execution_count": 33,
   "metadata": {},
   "outputs": [],
   "source": [
    "# Calculate the economy rate for bowlers\n",
    "# Economy Rate = (Total Runs Conceded / Total Overs Bowled)\n",
    "df['bowler1_economy_rate'] = df['bowler1_runs'] / df['bowler1_overs']\n",
    "df['bowler2_economy_rate'] = df['bowler2_runs'] / df['bowler2_overs']"
   ]
  },
  {
   "cell_type": "code",
   "execution_count": 34,
   "metadata": {},
   "outputs": [],
   "source": [
    "# Calculate the total boundaries hit in an innings\n",
    "# Boundaries are 4s and 6s, we'll assume 'isBoundary' column indicates a boundary\n",
    "boundaries_data = df[df['isBoundary'] == True]\n",
    "innings_boundaries = boundaries_data.groupby('innings_id')['isBoundary'].count().reset_index()\n",
    "innings_boundaries.rename(columns={'isBoundary': 'total_boundaries'}, inplace=True)\n"
   ]
  },
  {
   "cell_type": "code",
   "execution_count": 35,
   "metadata": {},
   "outputs": [],
   "source": [
    "# Merge the total boundaries back to the main dataframe\n",
    "result = df.merge(innings_boundaries, on='innings_id', how='left')"
   ]
  },
  {
   "cell_type": "code",
   "execution_count": 39,
   "metadata": {},
   "outputs": [
    {
     "data": {
      "image/png": "[encoded data removed]",
      "text/plain": [
       "<Figure size 1000x600 with 1 Axes>"
      ]
     },
     "metadata": {},
     "output_type": "display_data"
    }
   ],
   "source": [
    "# Plot distribution of runs scored per ball\n",
    "plt.figure(figsize=(10, 6))\n",
    "sns.countplot(x='runs', data=df)\n",
    "plt.title('Distribution of Runs Scored per Ball')\n",
    "plt.xlabel('Runs')\n",
    "plt.ylabel('Frequency')\n",
    "plt.show()"
   ]
  },
  {
   "cell_type": "code",
   "execution_count": 40,
   "metadata": {},
   "outputs": [
    {
     "data": {
      "text/plain": [
       "batsman1_name\n",
       "Virat Kohli         310\n",
       "Max O'Dowd          261\n",
       "Jos Buttler         241\n",
       "Suryakumar Yadav    236\n",
       "Pathum Nissanka     232\n",
       "Sikandar Raza       230\n",
       "Kusal Mendis        229\n",
       "Alex Hales          218\n",
       "Lorcan Tucker       217\n",
       "Glenn Phillips      209\n",
       "Name: runs, dtype: int64"
      ]
     },
     "execution_count": 40,
     "metadata": {},
     "output_type": "execute_result"
    }
   ],
   "source": [
    "# Group by batsman and sum the runs\n",
    "batsman_runs = df.groupby('batsman1_name')['runs'].sum().sort_values(ascending=False)\n",
    "\n",
    "# Get the top 10 batsmen\n",
    "batsman_runs.head(10)"
   ]
  },
  {
   "cell_type": "markdown",
   "metadata": {},
   "source": [
    "Virat Kohli is at the top position with the 310 runs scored by him "
   ]
  },
  {
   "cell_type": "code",
   "execution_count": 41,
   "metadata": {},
   "outputs": [
    {
     "data": {
      "text/plain": [
       "bowler1_name\n",
       "Wanindu Hasaranga de Silva    14\n",
       "Paul van Meekeren             13\n",
       "Bas de Leede                  13\n",
       "Sam Curran                    13\n",
       "Blessing Muzarabani           12\n",
       "Anrich Nortje                 12\n",
       "Shadab Khan                   12\n",
       "Maheesh Theekshana            11\n",
       "Josh Little                   11\n",
       "Shaheen Shah Afridi           11\n",
       "Name: wicket_id, dtype: int64"
      ]
     },
     "execution_count": 41,
     "metadata": {},
     "output_type": "execute_result"
    }
   ],
   "source": [
    "# Group by bowler and count the number of wickets\n",
    "bowler_wickets = df.groupby('bowler1_name')['wicket_id'].nunique().sort_values(ascending=False)\n",
    "\n",
    "# Get the top 10 bowlers\n",
    "bowler_wickets.head(10)"
   ]
  },
  {
   "cell_type": "markdown",
   "metadata": {},
   "source": [
    "Wanindu Hasaranga de Silva is at the top with 14 wickets.\n"
   ]
  },
  {
   "cell_type": "markdown",
   "metadata": {},
   "source": [
    "analyzing the performance of each team in terms of total runs scored and total wickets taken.\n",
    "To shows the performance of each team in terms of total runs scored and total wickets taken.\n",
    "We will create two new columns named as \"batting_team\" and \"bowling_team\"."
   ]
  },
  {
   "cell_type": "code",
   "execution_count": 44,
   "metadata": {},
   "outputs": [],
   "source": [
    "# Create new 'batting_team' and 'bowling_team' columns\n",
    "df['batting_team'] = np.where(df['current_innings'] == df['home_team'], df['home_team'], df['away_team'])\n",
    "df['bowling_team'] = np.where(df['batting_team'] == df['home_team'], df['away_team'], df['home_team'])"
   ]
  },
  {
   "cell_type": "code",
   "execution_count": 47,
   "metadata": {},
   "outputs": [
    {
     "data": {
      "text/plain": [
       "batting_team\n",
       "SL       1097\n",
       "IRE      1045\n",
       "ZIM      1010\n",
       "NED      1007\n",
       "INDIA    1004\n",
       "PAK       979\n",
       "NZ        854\n",
       "ENG       848\n",
       "BAN       665\n",
       "SA        637\n",
       "AUS       598\n",
       "SCOT      467\n",
       "NAM       424\n",
       "AFG       419\n",
       "WI        410\n",
       "UAE       331\n",
       "Name: runs, dtype: int64"
      ]
     },
     "execution_count": 47,
     "metadata": {},
     "output_type": "execute_result"
    }
   ],
   "source": [
    "# Calculating the total runs scored by each team\n",
    "team_runs = df.groupby('batting_team')['runs'].sum().sort_values(ascending=False)\n",
    "team_runs\n"
   ]
  },
  {
   "cell_type": "code",
   "execution_count": 49,
   "metadata": {},
   "outputs": [
    {
     "data": {
      "text/plain": [
       "bowling_team\n",
       "SL       53\n",
       "NED      51\n",
       "PAK      49\n",
       "ENG      47\n",
       "ZIM      45\n",
       "INDIA    37\n",
       "NZ       37\n",
       "SA       36\n",
       "BAN      33\n",
       "IRE      33\n",
       "AUS      25\n",
       "UAE      22\n",
       "SCOT     18\n",
       "AFG      17\n",
       "NAM      17\n",
       "WI       16\n",
       "Name: wicket_id, dtype: int64"
      ]
     },
     "execution_count": 49,
     "metadata": {},
     "output_type": "execute_result"
    }
   ],
   "source": [
    "# Calculating the total wickets taken by each team\n",
    "team_wickets = df.groupby('bowling_team')['wicket_id'].nunique().sort_values(ascending=False)\n",
    "team_wickets"
   ]
  },
  {
   "cell_type": "code",
   "execution_count": 61,
   "metadata": {},
   "outputs": [
    {
     "data": {
      "text/html": [
       "<div>\n",
       "<style scoped>\n",
       "    .dataframe tbody tr th:only-of-type {\n",
       "        vertical-align: middle;\n",
       "    }\n",
       "\n",
       "    .dataframe tbody tr th {\n",
       "        vertical-align: top;\n",
       "    }\n",
       "\n",
       "    .dataframe thead th {\n",
       "        text-align: right;\n",
       "    }\n",
       "</style>\n",
       "<table border=\"1\" class=\"dataframe\">\n",
       "  <thead>\n",
       "    <tr style=\"text-align: right;\">\n",
       "      <th></th>\n",
       "      <th>index</th>\n",
       "      <th>Total Runs</th>\n",
       "      <th>Total Wickets</th>\n",
       "    </tr>\n",
       "  </thead>\n",
       "  <tbody>\n",
       "    <tr>\n",
       "      <th>0</th>\n",
       "      <td>0</td>\n",
       "      <td>419</td>\n",
       "      <td>17</td>\n",
       "    </tr>\n",
       "    <tr>\n",
       "      <th>1</th>\n",
       "      <td>1</td>\n",
       "      <td>598</td>\n",
       "      <td>25</td>\n",
       "    </tr>\n",
       "    <tr>\n",
       "      <th>2</th>\n",
       "      <td>2</td>\n",
       "      <td>665</td>\n",
       "      <td>33</td>\n",
       "    </tr>\n",
       "    <tr>\n",
       "      <th>3</th>\n",
       "      <td>3</td>\n",
       "      <td>848</td>\n",
       "      <td>47</td>\n",
       "    </tr>\n",
       "    <tr>\n",
       "      <th>4</th>\n",
       "      <td>4</td>\n",
       "      <td>1004</td>\n",
       "      <td>37</td>\n",
       "    </tr>\n",
       "    <tr>\n",
       "      <th>5</th>\n",
       "      <td>5</td>\n",
       "      <td>1045</td>\n",
       "      <td>33</td>\n",
       "    </tr>\n",
       "    <tr>\n",
       "      <th>6</th>\n",
       "      <td>6</td>\n",
       "      <td>424</td>\n",
       "      <td>17</td>\n",
       "    </tr>\n",
       "    <tr>\n",
       "      <th>7</th>\n",
       "      <td>7</td>\n",
       "      <td>1007</td>\n",
       "      <td>51</td>\n",
       "    </tr>\n",
       "    <tr>\n",
       "      <th>8</th>\n",
       "      <td>8</td>\n",
       "      <td>854</td>\n",
       "      <td>37</td>\n",
       "    </tr>\n",
       "    <tr>\n",
       "      <th>9</th>\n",
       "      <td>9</td>\n",
       "      <td>979</td>\n",
       "      <td>49</td>\n",
       "    </tr>\n",
       "    <tr>\n",
       "      <th>10</th>\n",
       "      <td>10</td>\n",
       "      <td>637</td>\n",
       "      <td>36</td>\n",
       "    </tr>\n",
       "    <tr>\n",
       "      <th>11</th>\n",
       "      <td>11</td>\n",
       "      <td>467</td>\n",
       "      <td>18</td>\n",
       "    </tr>\n",
       "    <tr>\n",
       "      <th>12</th>\n",
       "      <td>12</td>\n",
       "      <td>1097</td>\n",
       "      <td>53</td>\n",
       "    </tr>\n",
       "    <tr>\n",
       "      <th>13</th>\n",
       "      <td>13</td>\n",
       "      <td>331</td>\n",
       "      <td>22</td>\n",
       "    </tr>\n",
       "    <tr>\n",
       "      <th>14</th>\n",
       "      <td>14</td>\n",
       "      <td>410</td>\n",
       "      <td>16</td>\n",
       "    </tr>\n",
       "    <tr>\n",
       "      <th>15</th>\n",
       "      <td>15</td>\n",
       "      <td>1010</td>\n",
       "      <td>45</td>\n",
       "    </tr>\n",
       "  </tbody>\n",
       "</table>\n",
       "</div>"
      ],
      "text/plain": [
       "    index  Total Runs  Total Wickets\n",
       "0       0         419             17\n",
       "1       1         598             25\n",
       "2       2         665             33\n",
       "3       3         848             47\n",
       "4       4        1004             37\n",
       "5       5        1045             33\n",
       "6       6         424             17\n",
       "7       7        1007             51\n",
       "8       8         854             37\n",
       "9       9         979             49\n",
       "10     10         637             36\n",
       "11     11         467             18\n",
       "12     12        1097             53\n",
       "13     13         331             22\n",
       "14     14         410             16\n",
       "15     15        1010             45"
      ]
     },
     "execution_count": 61,
     "metadata": {},
     "output_type": "execute_result"
    }
   ],
   "source": [
    "# Combining both metrics into a single dataframe to get total runs and total wickets \n",
    "team_performance = pd.DataFrame({'Total Runs': team_runs, 'Total Wickets': team_wickets}).reset_index()\n",
    "team_performance "
   ]
  },
  {
   "cell_type": "markdown",
   "metadata": {},
   "source": [
    "Sri Lanka (SL) has taken the most wickets with a total of 53, while \n",
    "India (IND) has scored the most runs with a total of 1004."
   ]
  },
  {
   "cell_type": "code",
   "execution_count": null,
   "metadata": {},
   "outputs": [],
   "source": []
  }
 ],
 "metadata": {
  "kernelspec": {
   "display_name": "Python 3",
   "language": "python",
   "name": "python3"
  },
  "language_info": {
   "codemirror_mode": {
    "name": "ipython",
    "version": 3
   },
   "file_extension": ".py",
   "mimetype": "text/x-python",
   "name": "python",
   "nbconvert_exporter": "python",
   "pygments_lexer": "ipython3",
   "version": "3.9.10"
  },
  "orig_nbformat": 4
 },
 "nbformat": 4,
 "nbformat_minor": 2
}
